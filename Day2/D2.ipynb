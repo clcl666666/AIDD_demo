{
 "cells": [
  {
   "cell_type": "code",
   "execution_count": 25,
   "id": "f08e0e21",
   "metadata": {},
   "outputs": [
    {
     "name": "stdout",
     "output_type": "stream",
     "text": [
      "残基 45 和 47 的 Cα 距离为 5.79 Å\n"
     ]
    }
   ],
   "source": [
    "# Biopython 提供了 PDB 模块，可以方便地解析 PDB 并计算原子距离。\n",
    "from Bio.PDB import PDBParser\n",
    "from Bio.PDB.Polypeptide import is_aa\n",
    "\n",
    "# 解析 PDB 文件\n",
    "pdb_file = \"protein.pdb\"\n",
    "parser = PDBParser(QUIET=True)\n",
    "structure = parser.get_structure(\"protein\", pdb_file)\n",
    "\n",
    "# 定义残基编号和链\n",
    "resi1, resi2 = 45, 47\n",
    "chain_id = \"D\"\n",
    "\n",
    "# 提取 Cα 原子\n",
    "def get_ca_atom(structure, chain_id, resi):\n",
    "    for model in structure:\n",
    "        chain = model[chain_id]\n",
    "        for res in chain:\n",
    "            if is_aa(res) and res.get_id()[1] == resi:\n",
    "                return res['CA']\n",
    "    return None\n",
    "\n",
    "ca1 = get_ca_atom(structure, chain_id, resi1)\n",
    "ca2 = get_ca_atom(structure, chain_id, resi2)\n",
    "\n",
    "# 计算距离\n",
    "dist = ca1 - ca2  # Biopython 重载了 '-' 运算符\n",
    "print(f\"残基 {resi1} 和 {resi2} 的 Cα 距离为 {dist:.2f} Å\")"
   ]
  },
  {
   "cell_type": "code",
   "execution_count": 26,
   "id": "770b3882",
   "metadata": {},
   "outputs": [
    {
     "name": "stdout",
     "output_type": "stream",
     "text": [
      "残基 45 和 47 的 Cα 距离为 5.79 Å\n"
     ]
    }
   ],
   "source": [
    "# 使用 Python 文本文件操作\n",
    "import math\n",
    "\n",
    "def parse_pdb_ca(filename, resi_list, chain_id=None):\n",
    "    \"\"\"\n",
    "    从 PDB 文件中获取指定残基的 CA 坐标\n",
    "    :param filename: PDB 文件路径\n",
    "    :param resi_list: 需要提取的残基编号列表，如 [45, 47]\n",
    "    :param chain_id: 链 ID，可选\n",
    "    :return: dict, {resi: (x, y, z)}\n",
    "    \"\"\"\n",
    "    coords = {}\n",
    "    with open(filename) as f:\n",
    "        for line in f:\n",
    "            if line.startswith(\"ATOM\") and line[12:16].strip() == \"CA\":\n",
    "                resi = int(line[22:26].strip())\n",
    "                chain = line[21].strip()\n",
    "                if chain_id and chain != chain_id:\n",
    "                    continue\n",
    "                if resi in resi_list:\n",
    "                    x = float(line[30:38].strip())\n",
    "                    y = float(line[38:46].strip())\n",
    "                    z = float(line[46:54].strip())\n",
    "                    coords[resi] = (x, y, z)\n",
    "    return coords\n",
    "\n",
    "def distance(coord1, coord2):\n",
    "    \"\"\"计算两点间欧氏距离\"\"\"\n",
    "    return math.sqrt(sum((a-b)**2 for a, b in zip(coord1, coord2)))\n",
    "\n",
    "# 使用示例\n",
    "pdb_file = \"protein.pdb\"\n",
    "resi1, resi2 = 45, 47\n",
    "chain_id = \"D\"\n",
    "coords = parse_pdb_ca(pdb_file, [resi1, resi2], chain_id=chain_id)\n",
    "dist = distance(coords[resi1], coords[resi2])\n",
    "print(f\"残基 {resi1} 和 {resi2} 的 Cα 距离为 {dist:.2f} Å\")"
   ]
  },
  {
   "cell_type": "code",
   "execution_count": 2,
   "id": "b1c7c95a",
   "metadata": {},
   "outputs": [],
   "source": [
    "import pandas as pd\n",
    "import numpy as np\n",
    "df = pd.read_csv('experiment_value.csv')\n",
    "resname_value_dict = df[['rename','value']].set_index('rename')['value'].to_dict()\n",
    "filename = \"protein.pdb\"\n",
    "new_lines = []\n",
    "with open(filename) as f:\n",
    "    for line in f:\n",
    "        if line.startswith(\"ATOM\"):\n",
    "            resi = int(line[22:26].strip())\n",
    "            exp_v = resname_value_dict[resi]*100\n",
    "            exp_v = round(exp_v,2)\n",
    "            # 把resname=x的b-factor改掉。\n",
    "            # old_b-factor = line[60:66]\n",
    "            new_line = line[:60] + ' ' + str(exp_v) + line[66:]\n",
    "            new_lines.append(new_line)\n",
    "\n",
    "        else:\n",
    "            new_lines.append(line)\n",
    "with open('protein_bfactor.pdb','w') as f_out:\n",
    "    for line in new_lines:\n",
    "        f_out.write(line)"
   ]
  },
  {
   "cell_type": "code",
   "execution_count": 22,
   "id": "a285e243",
   "metadata": {},
   "outputs": [
    {
     "name": "stdout",
     "output_type": "stream",
     "text": [
      "残基 20 二级结构: -\n",
      "残基 21 二级结构: E\n",
      "残基 22 二级结构: E\n",
      "残基 23 二级结构: E\n",
      "残基 24 二级结构: E\n"
     ]
    }
   ],
   "source": [
    "# 运行dssp计算蛋白质的二级结构（α-helix, β-sheet 等），除了需要安装biopython的包，还需要安装dssp,他其实调用外部命令行工具 mkdssp 来做计算的。\n",
    "# conda install -c salilab dssp\n",
    "\n",
    "from Bio.PDB import PDBParser, DSSP\n",
    "\n",
    "pdb_file = \"protein.pdb\"\n",
    "parser = PDBParser(QUIET=True)\n",
    "structure = parser.get_structure(\"protein\", pdb_file)\n",
    "\n",
    "model = structure[0]  # 第一模型\n",
    "dssp = DSSP(model, pdb_file)\n",
    "\n",
    "for key in list(dssp.keys())[:5]:\n",
    "    res_id = key[1][1]\n",
    "    ss = dssp[key][2]  # 二级结构类型\n",
    "    print(f\"残基 {res_id} 二级结构: {ss}\")"
   ]
  },
  {
   "cell_type": "code",
   "execution_count": null,
   "id": "095f414f",
   "metadata": {},
   "outputs": [
    {
     "name": "stdout",
     "output_type": "stream",
     "text": [
      "['-', 'E', 'E', 'E', 'E']\n",
      "- : 20.00%\n",
      "E : 80.00%\n"
     ]
    }
   ],
   "source": [
    "# 可以统计整个结构的螺旋/片层/coil 比例：\n",
    "\n",
    "from collections import Counter\n",
    "\n",
    "ss_list = []\n",
    "for key in list(dssp.keys())[:5]:\n",
    "    ss_list.append(dssp[key][2])\n",
    "print(ss_list)\n",
    "ss_counts = Counter(ss_list)\n",
    "total = sum(ss_counts.values())\n",
    "\n",
    "for k, v in ss_counts.items():\n",
    "    print(f\"{k or ' '} : {v/total:.2%}\")"
   ]
  },
  {
   "cell_type": "code",
   "execution_count": 10,
   "id": "b377f581",
   "metadata": {},
   "outputs": [
    {
     "name": "stdout",
     "output_type": "stream",
     "text": [
      "输入文件示例：\n",
      "DIQMTQSPSSLSASVGDRVTITCRASQSISSYLNWYQQKPGKAPKLLIYAASSLQSGVPSRFSGSGSGTDFTLTISSLQPEDFATYYCQQHYTTPPTFGQGTKLEIK QVQLVQSGAEVKKPGASVKVSCKASGYTFTSYWMHWVKQTPGRGLEWIGAIYPGNGDTSYNQKFKGKATLTADKSSSTAYMQLSSLTSEDSAVYYCAR\n",
      "DIQMTQSPSSLSASVGDRVTITCRASQSISSYLNWYQQKPGKAPKLLIYAASSLQSGVPSRFSGSGSGTDFTLTISSLQPEDFATYYCQQHYTTPPTFGQGTKLEIK\n",
      "RASQSISSYLN AASSLQS QQHYTTPPT\n"
     ]
    }
   ],
   "source": [
    "# 抗体编号，（Kabat，Chothia，IMGT）\n",
    "# conda install -c bioconda abnumber 安装\n",
    "\n",
    "import os\n",
    "from abnumber import Chain\n",
    "import json\n",
    "\n",
    "input_fasta = 'test.fasta'\n",
    "with open(input_fasta) as f:\n",
    "    lines = f.readlines()\n",
    "for i,line in enumerate(lines):\n",
    "    if line.startswith('>H'):\n",
    "        heavy_chain = lines[i+1].strip()\n",
    "    elif line.startswith('>L'):\n",
    "        light_chain = lines[i+1].strip()\n",
    "print(heavy_chain,light_chain)\n",
    "\n",
    "schemes = ['imgt','kabat','chothia']\n",
    "\n",
    "####### heavy_chain\n",
    "scheme = 'kabat'\n",
    "chain = Chain(heavy_chain, scheme=scheme)\n",
    "print(chain)\n",
    "print(chain.cdr1_seq, chain.cdr2_seq, chain.cdr3_seq)\n"
   ]
  },
  {
   "cell_type": "code",
   "execution_count": 6,
   "id": "794b63ed",
   "metadata": {},
   "outputs": [],
   "source": [
    "from abnumber import Chain\n",
    "seq_light = 'DIQMTQSPASLSASVGETVTITCRASGNIHNYLAWYQQKQGKSPQLLVYYTTTLADGVPSRFSGSGSGTQYSLKINSLQPEDFGSYYCQHFWSTPRTFGGGTKLEIKRAD'\n",
    "chain = Chain(seq_light, scheme='kabat')"
   ]
  },
  {
   "cell_type": "code",
   "execution_count": 7,
   "id": "3b1d7382",
   "metadata": {},
   "outputs": [
    {
     "data": {
      "text/plain": [
       "DIQMTQSPASLSASVGETVTITCRASGNIHNYLAWYQQKQGKSPQLLVYYTTTLADGVPSRFSGSGSGTQYSLKINSLQPEDFGSYYCQHFWSTPRTFGGGTKLEIK\n",
       " ° °                   ^^^^^^^^^^^°°         °°°°^^^^^^^       ° ° °° °                 ^^^^^^^^^°         "
      ]
     },
     "execution_count": 7,
     "metadata": {},
     "output_type": "execute_result"
    }
   ],
   "source": [
    "chain"
   ]
  },
  {
   "cell_type": "code",
   "execution_count": 8,
   "id": "3dacc1f3",
   "metadata": {},
   "outputs": [
    {
     "name": "stdout",
     "output_type": "stream",
     "text": [
      "RASGNIHNYLA YTTTLAD QHFWSTPRT\n"
     ]
    }
   ],
   "source": [
    "print(chain.cdr1_seq, chain.cdr2_seq, chain.cdr3_seq)"
   ]
  },
  {
   "cell_type": "code",
   "execution_count": 9,
   "id": "35e7217f",
   "metadata": {},
   "outputs": [],
   "source": [
    "import pandas as pd\n",
    "pos_list = []\n",
    "aa_list = []\n",
    "for pos, aa in chain:\n",
    "    pos_list.append(pos)\n",
    "    aa_list.append(aa)\n",
    "df = pd.DataFrame({'pos':pos_list,'aa':aa_list})\n",
    "df.to_csv('kabat.csv')"
   ]
  },
  {
   "cell_type": "code",
   "execution_count": 10,
   "id": "9e55a067",
   "metadata": {},
   "outputs": [
    {
     "data": {
      "text/html": [
       "<div>\n",
       "<style scoped>\n",
       "    .dataframe tbody tr th:only-of-type {\n",
       "        vertical-align: middle;\n",
       "    }\n",
       "\n",
       "    .dataframe tbody tr th {\n",
       "        vertical-align: top;\n",
       "    }\n",
       "\n",
       "    .dataframe thead th {\n",
       "        text-align: right;\n",
       "    }\n",
       "</style>\n",
       "<table border=\"1\" class=\"dataframe\">\n",
       "  <thead>\n",
       "    <tr style=\"text-align: right;\">\n",
       "      <th></th>\n",
       "      <th>pos</th>\n",
       "      <th>aa</th>\n",
       "    </tr>\n",
       "  </thead>\n",
       "  <tbody>\n",
       "    <tr>\n",
       "      <th>0</th>\n",
       "      <td>L1</td>\n",
       "      <td>D</td>\n",
       "    </tr>\n",
       "    <tr>\n",
       "      <th>1</th>\n",
       "      <td>L2</td>\n",
       "      <td>I</td>\n",
       "    </tr>\n",
       "    <tr>\n",
       "      <th>2</th>\n",
       "      <td>L3</td>\n",
       "      <td>Q</td>\n",
       "    </tr>\n",
       "    <tr>\n",
       "      <th>3</th>\n",
       "      <td>L4</td>\n",
       "      <td>M</td>\n",
       "    </tr>\n",
       "    <tr>\n",
       "      <th>4</th>\n",
       "      <td>L5</td>\n",
       "      <td>T</td>\n",
       "    </tr>\n",
       "    <tr>\n",
       "      <th>...</th>\n",
       "      <td>...</td>\n",
       "      <td>...</td>\n",
       "    </tr>\n",
       "    <tr>\n",
       "      <th>102</th>\n",
       "      <td>L103</td>\n",
       "      <td>K</td>\n",
       "    </tr>\n",
       "    <tr>\n",
       "      <th>103</th>\n",
       "      <td>L104</td>\n",
       "      <td>L</td>\n",
       "    </tr>\n",
       "    <tr>\n",
       "      <th>104</th>\n",
       "      <td>L105</td>\n",
       "      <td>E</td>\n",
       "    </tr>\n",
       "    <tr>\n",
       "      <th>105</th>\n",
       "      <td>L106</td>\n",
       "      <td>I</td>\n",
       "    </tr>\n",
       "    <tr>\n",
       "      <th>106</th>\n",
       "      <td>L107</td>\n",
       "      <td>K</td>\n",
       "    </tr>\n",
       "  </tbody>\n",
       "</table>\n",
       "<p>107 rows × 2 columns</p>\n",
       "</div>"
      ],
      "text/plain": [
       "      pos aa\n",
       "0      L1  D\n",
       "1      L2  I\n",
       "2      L3  Q\n",
       "3      L4  M\n",
       "4      L5  T\n",
       "..    ... ..\n",
       "102  L103  K\n",
       "103  L104  L\n",
       "104  L105  E\n",
       "105  L106  I\n",
       "106  L107  K\n",
       "\n",
       "[107 rows x 2 columns]"
      ]
     },
     "execution_count": 10,
     "metadata": {},
     "output_type": "execute_result"
    }
   ],
   "source": [
    "df"
   ]
  },
  {
   "cell_type": "code",
   "execution_count": null,
   "id": "ed613326",
   "metadata": {},
   "outputs": [],
   "source": []
  }
 ],
 "metadata": {
  "kernelspec": {
   "display_name": "base",
   "language": "python",
   "name": "python3"
  },
  "language_info": {
   "codemirror_mode": {
    "name": "ipython",
    "version": 3
   },
   "file_extension": ".py",
   "mimetype": "text/x-python",
   "name": "python",
   "nbconvert_exporter": "python",
   "pygments_lexer": "ipython3",
   "version": "3.11.11"
  }
 },
 "nbformat": 4,
 "nbformat_minor": 5
}
