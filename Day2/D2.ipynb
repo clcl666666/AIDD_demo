{
 "cells": [
  {
   "cell_type": "code",
   "execution_count": 25,
   "id": "f08e0e21",
   "metadata": {},
   "outputs": [
    {
     "name": "stdout",
     "output_type": "stream",
     "text": [
      "残基 45 和 47 的 Cα 距离为 5.79 Å\n"
     ]
    }
   ],
   "source": [
    "# Biopython 提供了 PDB 模块，可以方便地解析 PDB 并计算原子距离。\n",
    "from Bio.PDB import PDBParser\n",
    "from Bio.PDB.Polypeptide import is_aa\n",
    "\n",
    "# 解析 PDB 文件\n",
    "pdb_file = \"protein.pdb\"\n",
    "parser = PDBParser(QUIET=True)\n",
    "structure = parser.get_structure(\"protein\", pdb_file)\n",
    "\n",
    "# 定义残基编号和链\n",
    "resi1, resi2 = 45, 47\n",
    "chain_id = \"D\"\n",
    "\n",
    "# 提取 Cα 原子\n",
    "def get_ca_atom(structure, chain_id, resi):\n",
    "    for model in structure:\n",
    "        chain = model[chain_id]\n",
    "        for res in chain:\n",
    "            if is_aa(res) and res.get_id()[1] == resi:\n",
    "                return res['CA']\n",
    "    return None\n",
    "\n",
    "ca1 = get_ca_atom(structure, chain_id, resi1)\n",
    "ca2 = get_ca_atom(structure, chain_id, resi2)\n",
    "\n",
    "# 计算距离\n",
    "dist = ca1 - ca2  # Biopython 重载了 '-' 运算符\n",
    "print(f\"残基 {resi1} 和 {resi2} 的 Cα 距离为 {dist:.2f} Å\")"
   ]
  },
  {
   "cell_type": "code",
   "execution_count": 26,
   "id": "770b3882",
   "metadata": {},
   "outputs": [
    {
     "name": "stdout",
     "output_type": "stream",
     "text": [
      "残基 45 和 47 的 Cα 距离为 5.79 Å\n"
     ]
    }
   ],
   "source": [
    "# 使用 Python 文本文件操作\n",
    "import math\n",
    "\n",
    "def parse_pdb_ca(filename, resi_list, chain_id=None):\n",
    "    \"\"\"\n",
    "    从 PDB 文件中获取指定残基的 CA 坐标\n",
    "    :param filename: PDB 文件路径\n",
    "    :param resi_list: 需要提取的残基编号列表，如 [45, 47]\n",
    "    :param chain_id: 链 ID，可选\n",
    "    :return: dict, {resi: (x, y, z)}\n",
    "    \"\"\"\n",
    "    coords = {}\n",
    "    with open(filename) as f:\n",
    "        for line in f:\n",
    "            if line.startswith(\"ATOM\") and line[12:16].strip() == \"CA\":\n",
    "                resi = int(line[22:26].strip())\n",
    "                chain = line[21].strip()\n",
    "                if chain_id and chain != chain_id:\n",
    "                    continue\n",
    "                if resi in resi_list:\n",
    "                    x = float(line[30:38].strip())\n",
    "                    y = float(line[38:46].strip())\n",
    "                    z = float(line[46:54].strip())\n",
    "                    coords[resi] = (x, y, z)\n",
    "    return coords\n",
    "\n",
    "def distance(coord1, coord2):\n",
    "    \"\"\"计算两点间欧氏距离\"\"\"\n",
    "    return math.sqrt(sum((a-b)**2 for a, b in zip(coord1, coord2)))\n",
    "\n",
    "# 使用示例\n",
    "pdb_file = \"protein.pdb\"\n",
    "resi1, resi2 = 45, 47\n",
    "chain_id = \"D\"\n",
    "coords = parse_pdb_ca(pdb_file, [resi1, resi2], chain_id=chain_id)\n",
    "dist = distance(coords[resi1], coords[resi2])\n",
    "print(f\"残基 {resi1} 和 {resi2} 的 Cα 距离为 {dist:.2f} Å\")"
   ]
  },
  {
   "cell_type": "code",
   "execution_count": null,
   "id": "b1c7c95a",
   "metadata": {},
   "outputs": [],
   "source": [
    "import pandas as pd\n",
    "import numpy as np\n",
    "df = pd.read_csv('experiment_value.csv')\n",
    "resname_value_dict = df[['rename','value']].set_index('rename')['value'].to_dict()\n",
    "filename = \"protein.pdb\"\n",
    "new_lines = []\n",
    "with open(filename) as f:\n",
    "    for line in f:\n",
    "        if line.startswith(\"ATOM\"):\n",
    "            resi = int(line[22:26].strip())\n",
    "            # 把resname=x的b-factor改掉。\n",
    "        else:\n",
    "            new_lines.append(line)\n",
    "with open('protein_bfactor.pdb') as f_out:\n",
    "    for line in new_lines:\n",
    "        f_out.write(line)"
   ]
  },
  {
   "cell_type": "code",
   "execution_count": 22,
   "id": "a285e243",
   "metadata": {},
   "outputs": [
    {
     "name": "stdout",
     "output_type": "stream",
     "text": [
      "残基 20 二级结构: -\n",
      "残基 21 二级结构: E\n",
      "残基 22 二级结构: E\n",
      "残基 23 二级结构: E\n",
      "残基 24 二级结构: E\n"
     ]
    }
   ],
   "source": [
    "# 运行dssp计算蛋白质的二级结构（α-helix, β-sheet 等），除了需要安装biopython的包，还需要安装dssp,他其实调用外部命令行工具 mkdssp 来做计算的。\n",
    "# conda install -c salilab dssp\n",
    "\n",
    "from Bio.PDB import PDBParser, DSSP\n",
    "\n",
    "pdb_file = \"protein.pdb\"\n",
    "parser = PDBParser(QUIET=True)\n",
    "structure = parser.get_structure(\"protein\", pdb_file)\n",
    "\n",
    "model = structure[0]  # 第一模型\n",
    "dssp = DSSP(model, pdb_file)\n",
    "\n",
    "for key in list(dssp.keys())[:5]:\n",
    "    res_id = key[1][1]\n",
    "    ss = dssp[key][2]  # 二级结构类型\n",
    "    print(f\"残基 {res_id} 二级结构: {ss}\")"
   ]
  },
  {
   "cell_type": "code",
   "execution_count": null,
   "id": "095f414f",
   "metadata": {},
   "outputs": [
    {
     "name": "stdout",
     "output_type": "stream",
     "text": [
      "['-', 'E', 'E', 'E', 'E']\n",
      "- : 20.00%\n",
      "E : 80.00%\n"
     ]
    }
   ],
   "source": [
    "# 可以统计整个结构的螺旋/片层/coil 比例：\n",
    "\n",
    "from collections import Counter\n",
    "\n",
    "ss_list = []\n",
    "for key in list(dssp.keys())[:5]:\n",
    "    ss_list.append(dssp[key][2])\n",
    "print(ss_list)\n",
    "ss_counts = Counter(ss_list)\n",
    "total = sum(ss_counts.values())\n",
    "\n",
    "for k, v in ss_counts.items():\n",
    "    print(f\"{k or ' '} : {v/total:.2%}\")"
   ]
  },
  {
   "cell_type": "code",
   "execution_count": null,
   "id": "b377f581",
   "metadata": {},
   "outputs": [],
   "source": []
  }
 ],
 "metadata": {
  "kernelspec": {
   "display_name": "base",
   "language": "python",
   "name": "python3"
  },
  "language_info": {
   "codemirror_mode": {
    "name": "ipython",
    "version": 3
   },
   "file_extension": ".py",
   "mimetype": "text/x-python",
   "name": "python",
   "nbconvert_exporter": "python",
   "pygments_lexer": "ipython3",
   "version": "3.11.11"
  }
 },
 "nbformat": 4,
 "nbformat_minor": 5
}
